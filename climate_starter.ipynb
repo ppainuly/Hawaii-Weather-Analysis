{
 "cells": [
  {
   "cell_type": "code",
   "execution_count": 167,
   "metadata": {},
   "outputs": [],
   "source": [
    "%matplotlib inline\n",
    "from matplotlib import style\n",
    "style.use('fivethirtyeight')\n",
    "import matplotlib.pyplot as plt"
   ]
  },
  {
   "cell_type": "code",
   "execution_count": 168,
   "metadata": {},
   "outputs": [],
   "source": [
    "import numpy as np\n",
    "import pandas as pd"
   ]
  },
  {
   "cell_type": "code",
   "execution_count": 169,
   "metadata": {},
   "outputs": [],
   "source": [
    "import datetime as dt"
   ]
  },
  {
   "cell_type": "markdown",
   "metadata": {},
   "source": [
    "# Reflect Tables into SQLAlchemy ORM"
   ]
  },
  {
   "cell_type": "code",
   "execution_count": 170,
   "metadata": {},
   "outputs": [],
   "source": [
    "# Python SQL toolkit and Object Relational Mapper\n",
    "import sqlalchemy\n",
    "from sqlalchemy.ext.automap import automap_base\n",
    "from sqlalchemy.orm import Session\n",
    "from sqlalchemy import create_engine, func"
   ]
  },
  {
   "cell_type": "code",
   "execution_count": 171,
   "metadata": {},
   "outputs": [],
   "source": [
    "engine = create_engine(\"sqlite:///Resources/hawaii.sqlite\")"
   ]
  },
  {
   "cell_type": "code",
   "execution_count": 172,
   "metadata": {},
   "outputs": [],
   "source": [
    "# reflect an existing database into a new model\n",
    "Base = automap_base()\n",
    "# reflect the tables\n",
    "Base.prepare(engine, reflect=True)"
   ]
  },
  {
   "cell_type": "code",
   "execution_count": 173,
   "metadata": {},
   "outputs": [
    {
     "data": {
      "text/plain": [
       "['measurement', 'station']"
      ]
     },
     "execution_count": 173,
     "metadata": {},
     "output_type": "execute_result"
    }
   ],
   "source": [
    "# We can view all of the classes that automap found\n",
    "Base.classes.keys()"
   ]
  },
  {
   "cell_type": "code",
   "execution_count": 174,
   "metadata": {},
   "outputs": [],
   "source": [
    "# Save references to each table\n",
    "Measurement = Base.classes.measurement\n",
    "Station = Base.classes.station"
   ]
  },
  {
   "cell_type": "code",
   "execution_count": 175,
   "metadata": {},
   "outputs": [],
   "source": [
    "# Create our session (link) from Python to the DB\n",
    "session = Session(engine)"
   ]
  },
  {
   "cell_type": "code",
   "execution_count": 189,
   "metadata": {},
   "outputs": [
    {
     "name": "stdout",
     "output_type": "stream",
     "text": [
      "2017-08-23\n"
     ]
    }
   ],
   "source": [
    "data1 = session.query(Measurement).filter(Measurement.date).order_by(Measurement.date.desc()).first()\n",
    "print(data1.date)"
   ]
  },
  {
   "cell_type": "code",
   "execution_count": 10,
   "metadata": {
    "scrolled": true
   },
   "outputs": [
    {
     "name": "stdout",
     "output_type": "stream",
     "text": [
      "2017-08-23\n"
     ]
    }
   ],
   "source": [
    "data = engine.execute(\"Select date from measurement order by date desc limit 1\")\n",
    "#data = session.query(Measurement).filter(Measurement.date).orderby(Measurement.date.desc()).first()\n",
    "last_date = []\n",
    "for i in data:\n",
    "    last_date.append(i)\n",
    "    \n",
    "start_date = dt.date(2016, 10, 25)\n",
    "end_date = dt.date(2016, 11, 2)\n",
    "\n",
    "# The last date of the dataset\n",
    "print(last_date[0][0])\n"
   ]
  },
  {
   "cell_type": "markdown",
   "metadata": {},
   "source": [
    "# Exploratory Climate Analysis"
   ]
  },
  {
   "cell_type": "markdown",
   "metadata": {},
   "source": [
    "# Design a query to retrieve the last 12 months of precipitation data and plot the results"
   ]
  },
  {
   "cell_type": "code",
   "execution_count": 11,
   "metadata": {},
   "outputs": [
    {
     "data": {
      "text/html": [
       "<div>\n",
       "<style scoped>\n",
       "    .dataframe tbody tr th:only-of-type {\n",
       "        vertical-align: middle;\n",
       "    }\n",
       "\n",
       "    .dataframe tbody tr th {\n",
       "        vertical-align: top;\n",
       "    }\n",
       "\n",
       "    .dataframe thead th {\n",
       "        text-align: right;\n",
       "    }\n",
       "</style>\n",
       "<table border=\"1\" class=\"dataframe\">\n",
       "  <thead>\n",
       "    <tr style=\"text-align: right;\">\n",
       "      <th></th>\n",
       "      <th>id</th>\n",
       "      <th>station</th>\n",
       "      <th>date</th>\n",
       "      <th>prcp</th>\n",
       "      <th>tobs</th>\n",
       "    </tr>\n",
       "  </thead>\n",
       "  <tbody>\n",
       "    <tr>\n",
       "      <th>0</th>\n",
       "      <td>2364</td>\n",
       "      <td>USC00519397</td>\n",
       "      <td>2016-08-23</td>\n",
       "      <td>0.00</td>\n",
       "      <td>81.0</td>\n",
       "    </tr>\n",
       "    <tr>\n",
       "      <th>1</th>\n",
       "      <td>2365</td>\n",
       "      <td>USC00519397</td>\n",
       "      <td>2016-08-24</td>\n",
       "      <td>0.08</td>\n",
       "      <td>79.0</td>\n",
       "    </tr>\n",
       "    <tr>\n",
       "      <th>2</th>\n",
       "      <td>2366</td>\n",
       "      <td>USC00519397</td>\n",
       "      <td>2016-08-25</td>\n",
       "      <td>0.08</td>\n",
       "      <td>80.0</td>\n",
       "    </tr>\n",
       "    <tr>\n",
       "      <th>3</th>\n",
       "      <td>2367</td>\n",
       "      <td>USC00519397</td>\n",
       "      <td>2016-08-26</td>\n",
       "      <td>0.00</td>\n",
       "      <td>79.0</td>\n",
       "    </tr>\n",
       "    <tr>\n",
       "      <th>4</th>\n",
       "      <td>2368</td>\n",
       "      <td>USC00519397</td>\n",
       "      <td>2016-08-27</td>\n",
       "      <td>0.00</td>\n",
       "      <td>77.0</td>\n",
       "    </tr>\n",
       "  </tbody>\n",
       "</table>\n",
       "</div>"
      ],
      "text/plain": [
       "     id      station        date  prcp  tobs\n",
       "0  2364  USC00519397  2016-08-23  0.00  81.0\n",
       "1  2365  USC00519397  2016-08-24  0.08  79.0\n",
       "2  2366  USC00519397  2016-08-25  0.08  80.0\n",
       "3  2367  USC00519397  2016-08-26  0.00  79.0\n",
       "4  2368  USC00519397  2016-08-27  0.00  77.0"
      ]
     },
     "execution_count": 11,
     "metadata": {},
     "output_type": "execute_result"
    }
   ],
   "source": [
    "\n",
    "# Calculate the date 1 year ago from the last data point in the database\n",
    "datediff = dt.datetime.strptime(last_date[0][0], \"%Y-%m-%d\") - dt.timedelta(days=366)\n",
    "\n",
    "# Perform a query to retrieve the data and precipitation scores\n",
    "query = session.query(Measurement).filter(Measurement.date >= datediff).all()\n",
    "\n",
    "# Save the query results as a Pandas DataFrame and set the index to the date column\n",
    "id=[]\n",
    "station=[]\n",
    "date=[]\n",
    "prcp=[]\n",
    "tobs=[]\n",
    "for val in query:\n",
    "    id.append(val.id)\n",
    "    station.append(val.station)\n",
    "    date.append(val.date)\n",
    "    prcp.append(val.prcp)\n",
    "    tobs.append(val.tobs)\n",
    "    \n",
    "df = pd.DataFrame({'id':id,'station':station,'date':date,'prcp':prcp,'tobs':tobs})\n",
    "df.head()\n"
   ]
  },
  {
   "cell_type": "code",
   "execution_count": 12,
   "metadata": {},
   "outputs": [
    {
     "data": {
      "text/html": [
       "<div>\n",
       "<style scoped>\n",
       "    .dataframe tbody tr th:only-of-type {\n",
       "        vertical-align: middle;\n",
       "    }\n",
       "\n",
       "    .dataframe tbody tr th {\n",
       "        vertical-align: top;\n",
       "    }\n",
       "\n",
       "    .dataframe thead th {\n",
       "        text-align: right;\n",
       "    }\n",
       "</style>\n",
       "<table border=\"1\" class=\"dataframe\">\n",
       "  <thead>\n",
       "    <tr style=\"text-align: right;\">\n",
       "      <th></th>\n",
       "      <th>id</th>\n",
       "      <th>station</th>\n",
       "      <th>prcp</th>\n",
       "      <th>tobs</th>\n",
       "    </tr>\n",
       "    <tr>\n",
       "      <th>date</th>\n",
       "      <th></th>\n",
       "      <th></th>\n",
       "      <th></th>\n",
       "      <th></th>\n",
       "    </tr>\n",
       "  </thead>\n",
       "  <tbody>\n",
       "    <tr>\n",
       "      <th>2016-08-23</th>\n",
       "      <td>2364</td>\n",
       "      <td>USC00519397</td>\n",
       "      <td>0.00</td>\n",
       "      <td>81.0</td>\n",
       "    </tr>\n",
       "    <tr>\n",
       "      <th>2016-08-23</th>\n",
       "      <td>8825</td>\n",
       "      <td>USC00517948</td>\n",
       "      <td>NaN</td>\n",
       "      <td>80.0</td>\n",
       "    </tr>\n",
       "    <tr>\n",
       "      <th>2016-08-23</th>\n",
       "      <td>14608</td>\n",
       "      <td>USC00519281</td>\n",
       "      <td>1.79</td>\n",
       "      <td>77.0</td>\n",
       "    </tr>\n",
       "    <tr>\n",
       "      <th>2016-08-23</th>\n",
       "      <td>7331</td>\n",
       "      <td>USC00514830</td>\n",
       "      <td>0.05</td>\n",
       "      <td>80.0</td>\n",
       "    </tr>\n",
       "    <tr>\n",
       "      <th>2016-08-23</th>\n",
       "      <td>5091</td>\n",
       "      <td>USC00513117</td>\n",
       "      <td>0.15</td>\n",
       "      <td>76.0</td>\n",
       "    </tr>\n",
       "    <tr>\n",
       "      <th>2016-08-23</th>\n",
       "      <td>19202</td>\n",
       "      <td>USC00516128</td>\n",
       "      <td>0.70</td>\n",
       "      <td>74.0</td>\n",
       "    </tr>\n",
       "    <tr>\n",
       "      <th>2016-08-23</th>\n",
       "      <td>11851</td>\n",
       "      <td>USC00519523</td>\n",
       "      <td>0.02</td>\n",
       "      <td>80.0</td>\n",
       "    </tr>\n",
       "    <tr>\n",
       "      <th>2016-08-24</th>\n",
       "      <td>2365</td>\n",
       "      <td>USC00519397</td>\n",
       "      <td>0.08</td>\n",
       "      <td>79.0</td>\n",
       "    </tr>\n",
       "    <tr>\n",
       "      <th>2016-08-24</th>\n",
       "      <td>14609</td>\n",
       "      <td>USC00519281</td>\n",
       "      <td>2.15</td>\n",
       "      <td>77.0</td>\n",
       "    </tr>\n",
       "    <tr>\n",
       "      <th>2016-08-24</th>\n",
       "      <td>7332</td>\n",
       "      <td>USC00514830</td>\n",
       "      <td>2.28</td>\n",
       "      <td>80.0</td>\n",
       "    </tr>\n",
       "  </tbody>\n",
       "</table>\n",
       "</div>"
      ],
      "text/plain": [
       "               id      station  prcp  tobs\n",
       "date                                      \n",
       "2016-08-23   2364  USC00519397  0.00  81.0\n",
       "2016-08-23   8825  USC00517948   NaN  80.0\n",
       "2016-08-23  14608  USC00519281  1.79  77.0\n",
       "2016-08-23   7331  USC00514830  0.05  80.0\n",
       "2016-08-23   5091  USC00513117  0.15  76.0\n",
       "2016-08-23  19202  USC00516128  0.70  74.0\n",
       "2016-08-23  11851  USC00519523  0.02  80.0\n",
       "2016-08-24   2365  USC00519397  0.08  79.0\n",
       "2016-08-24  14609  USC00519281  2.15  77.0\n",
       "2016-08-24   7332  USC00514830  2.28  80.0"
      ]
     },
     "execution_count": 12,
     "metadata": {},
     "output_type": "execute_result"
    }
   ],
   "source": [
    "# Sort the dataframe by date\n",
    "ar = df\n",
    "ar.set_index('date', inplace=True)\n",
    "\n",
    "ar = ar.sort_values(['date'],ascending=True)\n",
    "ar.head(10)"
   ]
  },
  {
   "cell_type": "markdown",
   "metadata": {},
   "source": [
    "# Which day had the max Precipitation? "
   ]
  },
  {
   "cell_type": "code",
   "execution_count": 13,
   "metadata": {},
   "outputs": [
    {
     "data": {
      "text/plain": [
       "'2016-09-14'"
      ]
     },
     "execution_count": 13,
     "metadata": {},
     "output_type": "execute_result"
    }
   ],
   "source": [
    "# Find Max Precipitation date\n",
    "\n",
    "a = pd.DataFrame(ar)\n",
    "max_prcp = a.sort_values('prcp',ascending=False).head(1)\n",
    "max_prcpval = max_prcp\n",
    "max_prcpval = max_prcp.reset_index()\n",
    "#Max Value\n",
    "max_prcpval.iloc[0,0]"
   ]
  },
  {
   "cell_type": "markdown",
   "metadata": {},
   "source": [
    "# Plotting Precipitation data for last 12 months "
   ]
  },
  {
   "cell_type": "code",
   "execution_count": 139,
   "metadata": {},
   "outputs": [
    {
     "data": {
      "image/png": "[encoded data removed]",
      "text/plain": [
       "<Figure size 1008x504 with 1 Axes>"
      ]
     },
     "metadata": {},
     "output_type": "display_data"
    }
   ],
   "source": [
    "# Use Pandas Plotting with Matplotlib to plot the data\n",
    "from matplotlib import style\n",
    "style.use('fivethirtyeight')\n",
    "plt.figure(figsize=(14,7))\n",
    "plt.subplot()\n",
    "plt.bar(ar.index,ar['prcp'],label='precipitation',alpha=0.8)\n",
    "plt.xlabel('Date')\n",
    "plt.legend()\n",
    "plt.tick_params(axis = 'both', which = 'major', labelsize = 18)\n",
    "plt.xticks([])\n",
    "plt.text(x = 75, y = 7.90, s = \"Hawaii Precipitation index\",\n",
    "               fontsize = 28, weight = 'bold', alpha = .75)\n",
    "plt.text(x = 15, y = 7.45,\n",
    "               s = 'Time Series to analyse Precipitation Index for last 12 months in Hawaii, for each day',\n",
    "              fontsize = 18, alpha = .85,bbox=dict(facecolor='gray', alpha=0.3))\n",
    "plt.text(x = 30, y = max_prcpval.iloc[0,3],\n",
    "               s = \"Max Precipitation on \" + max_prcpval.iloc[0,0] + \" : \" + str(max_prcpval.iloc[0,3]),\n",
    "              fontsize = 10, alpha = .85,bbox=dict(facecolor='red', alpha=0.3))\n",
    "plt.text(x = 300, y = -0.25,\n",
    "               s = \"Data Set as latest as \" + last_date[0][0],\n",
    "              fontsize = 10, alpha = .85,bbox=dict(facecolor='gray', alpha=0.3))\n",
    "plt.axhline(y = 0.005, color = 'black', linewidth = 5, alpha = .7,)\n",
    "\n",
    "\n",
    "plt.scatter(max_prcpval['date'], max_prcpval['prcp'],marker='o',s=30, color=\"red\",zorder=5)\n",
    "plt.savefig(\"Images/Precipitation_last_12_months.png\",bbox_inches = 'tight')\n",
    "plt.show()"
   ]
  },
  {
   "cell_type": "code",
   "execution_count": 15,
   "metadata": {},
   "outputs": [
    {
     "data": {
      "text/html": [
       "<div>\n",
       "<style scoped>\n",
       "    .dataframe tbody tr th:only-of-type {\n",
       "        vertical-align: middle;\n",
       "    }\n",
       "\n",
       "    .dataframe tbody tr th {\n",
       "        vertical-align: top;\n",
       "    }\n",
       "\n",
       "    .dataframe thead th {\n",
       "        text-align: right;\n",
       "    }\n",
       "</style>\n",
       "<table border=\"1\" class=\"dataframe\">\n",
       "  <thead>\n",
       "    <tr style=\"text-align: right;\">\n",
       "      <th></th>\n",
       "      <th>prcp</th>\n",
       "    </tr>\n",
       "  </thead>\n",
       "  <tbody>\n",
       "    <tr>\n",
       "      <th>count</th>\n",
       "      <td>2021.000000</td>\n",
       "    </tr>\n",
       "    <tr>\n",
       "      <th>mean</th>\n",
       "      <td>0.177279</td>\n",
       "    </tr>\n",
       "    <tr>\n",
       "      <th>std</th>\n",
       "      <td>0.461190</td>\n",
       "    </tr>\n",
       "    <tr>\n",
       "      <th>min</th>\n",
       "      <td>0.000000</td>\n",
       "    </tr>\n",
       "    <tr>\n",
       "      <th>25%</th>\n",
       "      <td>0.000000</td>\n",
       "    </tr>\n",
       "    <tr>\n",
       "      <th>50%</th>\n",
       "      <td>0.020000</td>\n",
       "    </tr>\n",
       "    <tr>\n",
       "      <th>75%</th>\n",
       "      <td>0.130000</td>\n",
       "    </tr>\n",
       "    <tr>\n",
       "      <th>max</th>\n",
       "      <td>6.700000</td>\n",
       "    </tr>\n",
       "  </tbody>\n",
       "</table>\n",
       "</div>"
      ],
      "text/plain": [
       "              prcp\n",
       "count  2021.000000\n",
       "mean      0.177279\n",
       "std       0.461190\n",
       "min       0.000000\n",
       "25%       0.000000\n",
       "50%       0.020000\n",
       "75%       0.130000\n",
       "max       6.700000"
      ]
     },
     "execution_count": 15,
     "metadata": {},
     "output_type": "execute_result"
    }
   ],
   "source": [
    "# Use Pandas to calcualte the summary statistics for the precipitation data\n",
    "pd.DataFrame(df['prcp'].describe())"
   ]
  },
  {
   "cell_type": "code",
   "execution_count": null,
   "metadata": {},
   "outputs": [],
   "source": []
  },
  {
   "cell_type": "markdown",
   "metadata": {},
   "source": [
    "![describe](Images/describe.png)"
   ]
  },
  {
   "cell_type": "code",
   "execution_count": 16,
   "metadata": {},
   "outputs": [
    {
     "name": "stdout",
     "output_type": "stream",
     "text": [
      "Total Stations in the dataset: 9\n"
     ]
    }
   ],
   "source": [
    "# Design a query to show how many stations are available in this dataset?\n",
    "total_stations = session.query(Measurement.station).distinct().count()\n",
    "print(\"Total Stations in the dataset: \" + str(total_stations))"
   ]
  },
  {
   "cell_type": "code",
   "execution_count": 17,
   "metadata": {},
   "outputs": [
    {
     "name": "stdout",
     "output_type": "stream",
     "text": [
      "Most Active Stations by count(descending order) - \n",
      "('USC00519281', 2772)\n",
      "('USC00519397', 2724)\n",
      "('USC00513117', 2709)\n",
      "('USC00519523', 2669)\n",
      "('USC00516128', 2612)\n",
      "('USC00514830', 2202)\n",
      "('USC00511918', 1979)\n",
      "('USC00517948', 1372)\n",
      "('USC00518838', 511)\n"
     ]
    }
   ],
   "source": [
    "# What are the most active stations? (i.e. what stations have the most rows)?\n",
    "# List the stations and the counts in descending order.\n",
    "\n",
    "most_active_stations = session.query(Measurement.station, \n",
    "                                func.count(Measurement.station)).group_by(Measurement.station).order_by(func.count(Measurement.station).desc()).all()\n",
    "print(\"Most Active Stations by count(descending order) - \")\n",
    "for i in most_active_stations:\n",
    "    print(i)"
   ]
  },
  {
   "cell_type": "code",
   "execution_count": 18,
   "metadata": {},
   "outputs": [
    {
     "name": "stdout",
     "output_type": "stream",
     "text": [
      "Temperature recorded for Most Active Station: USC00519281\n",
      "Low: 54.0\n",
      "High: 85.0\n",
      "Average: 71.7\n"
     ]
    }
   ],
   "source": [
    "# Using the station id from the previous query, calculate the lowest temperature recorded, \n",
    "# highest temperature recorded, and average temperature most active station?\n",
    "\n",
    "temp_recorded = session.query(func.min(Measurement.tobs), func.max(Measurement.tobs),\n",
    "                                  func.avg(Measurement.tobs)).filter(Measurement.station == most_active_stations[0][0]).all()\n",
    "\n",
    "print(\"Temperature recorded for Most Active Station: \" + str(most_active_stations[0][0]))\n",
    "print(f\"Low: {temp_recorded[0][0]}\")\n",
    "print(f\"High: {temp_recorded[0][1]}\" )\n",
    "print(f\"Average: {round(temp_recorded[0][2], 1)}\")"
   ]
  },
  {
   "cell_type": "code",
   "execution_count": 19,
   "metadata": {},
   "outputs": [
    {
     "data": {
      "image/png": "[encoded data removed]",
      "text/plain": [
       "<Figure size 864x576 with 1 Axes>"
      ]
     },
     "metadata": {},
     "output_type": "display_data"
    }
   ],
   "source": [
    "# Choose the station with the highest number of temperature observations.\n",
    "\n",
    "station_query = session.query(Measurement.station, func.count(Measurement.tobs)).group_by(Measurement.station).order_by(func.count(Measurement.station).desc()).first()\n",
    "station_value = station_query[0]\n",
    "station_value\n",
    "\n",
    "# Query the last 12 months of temperature observation data for this station and plot the results as a histogram\n",
    "\n",
    "temperature_obs = session.query(Measurement.tobs).filter(Measurement.date >= datediff,Measurement.station == station_value).all()\n",
    "temperature_obs_df = pd.DataFrame(temperature_obs, columns=['temperature'])\n",
    "\n",
    "ax = temperature_obs_df.plot.hist(bins=12, title=\"Temperature Observations for Most Active Station - \",alpha=0.7,figsize=(12,8))\n",
    "\n",
    "\n",
    "plt.savefig(\"Images/TemperatureHistogram.png\",bbox_inches='tight')\n",
    "plt.show()"
   ]
  },
  {
   "cell_type": "code",
   "execution_count": 20,
   "metadata": {},
   "outputs": [
    {
     "name": "stdout",
     "output_type": "stream",
     "text": [
      "[(62.0, 69.57142857142857, 74.0)]\n"
     ]
    }
   ],
   "source": [
    "# This function called `calc_temps` will accept start date and end date in the format '%Y-%m-%d' \n",
    "# and return the minimum, average, and maximum temperatures for that range of dates\n",
    "def calc_temps(start_date, end_date):\n",
    "    \"\"\"TMIN, TAVG, and TMAX for a list of dates.\n",
    "    \n",
    "    Args:\n",
    "        start_date (string): A date string in the format %Y-%m-%d\n",
    "        end_date (string): A date string in the format %Y-%m-%d\n",
    "        \n",
    "    Returns:\n",
    "        TMIN, TAVE, and TMAX\n",
    "    \"\"\"\n",
    "    \n",
    "    return session.query(func.min(Measurement.tobs), func.avg(Measurement.tobs), func.max(Measurement.tobs)).\\\n",
    "        filter(Measurement.date >= start_date).filter(Measurement.date <= end_date).all()\n",
    "\n",
    "# function usage example\n",
    "print(calc_temps('2012-02-28', '2012-03-05'))"
   ]
  },
  {
   "cell_type": "code",
   "execution_count": 21,
   "metadata": {},
   "outputs": [
    {
     "data": {
      "text/plain": [
       "[(68.0, 76.08620689655173, 81.0)]"
      ]
     },
     "execution_count": 21,
     "metadata": {},
     "output_type": "execute_result"
    }
   ],
   "source": [
    "# Use your previous function `calc_temps` to calculate the tmin, tavg, and tmax \n",
    "# for your trip using the previous year's data for those same dates.\n",
    "\n",
    "my_trip = calc_temps(start_date,end_date)\n",
    "my_trip"
   ]
  },
  {
   "cell_type": "code",
   "execution_count": 137,
   "metadata": {},
   "outputs": [
    {
     "data": {
      "image/png": "[encoded data removed]",
      "text/plain": [
       "<Figure size 360x504 with 1 Axes>"
      ]
     },
     "metadata": {},
     "output_type": "display_data"
    }
   ],
   "source": [
    "# Plot the results from your previous query as a bar chart. \n",
    "# Use \"Trip Avg Temp\" as your Title\n",
    "# Use the average temperature for the y value\n",
    "# Use the peak-to-peak (tmax-tmin) value as the y error bar (yerr)\n",
    "style.use('seaborn-dark')\n",
    "trip_df = pd.DataFrame(my_trip, columns=['tmin', 'tavg', 'tmax'])\n",
    "plt.figure(figsize=(5,7))\n",
    "plt.bar(['1'], trip_df['tavg'], yerr=(trip_df['tmax'] - trip_df['tmin']), color='coral',alpha=0.5)\n",
    "plt.ylabel(\"Temp (F)\")\n",
    "plt.title('Average Temperature')\n",
    "plt.xticks([])\n",
    "plt.tight_layout()\n",
    "plt.grid()\n",
    "plt.savefig(\"Images/AveTempTrip.png\")\n",
    "plt.show()\n",
    "\n"
   ]
  },
  {
   "cell_type": "code",
   "execution_count": 30,
   "metadata": {},
   "outputs": [
    {
     "name": "stdout",
     "output_type": "stream",
     "text": [
      "[('USC00516128', 'MANOA LYON ARBO 785.2, HI US', 21.3331, -157.8025, 152.4, 0.1), ('USC00513117', 'KANEOHE 838.1, HI US', 21.4234, -157.8015, 14.6, 0.04), ('USC00519281', 'WAIHEE 837.5, HI US', 21.45167, -157.84888999999998, 32.9, 0.02), ('USC00519397', 'WAIKIKI 717.2, HI US', 21.2716, -157.8168, 3.0, 0.0), ('USC00519523', 'WAIMANALO EXPERIMENTAL FARM, HI US', 21.33556, -157.71139, 19.5, 0.0), ('USC00514830', 'KUALOA RANCH HEADQUARTERS 886.9, HI US', 21.5213, -157.8374, 7.0, None), ('USC00517948', 'PEARL CITY, HI US', 21.3934, -157.9751, 11.9, None)]\n"
     ]
    }
   ],
   "source": [
    "# Calculate the total amount of rainfall per weather station for your trip dates using the previous year's matching dates.\n",
    "# Sort this in descending order by precipitation amount and list the station, name, latitude, longitude, and elevation\n",
    "\n",
    "def precipitation(start_date, end_date):\n",
    "    \n",
    "        data =  session.query(Measurement.station, \n",
    "           Station.name, \n",
    "           Station.latitude, \n",
    "           Station.longitude, \n",
    "           Station.elevation, \n",
    "           Measurement.prcp).filter(Measurement.station == Station.station).\\\n",
    "                    filter(Measurement.date >= start_date).\\\n",
    "                        filter(Measurement.date <= end_date).group_by(Measurement.station).\\\n",
    "                            order_by(Measurement.prcp.desc()).all()\n",
    "        return data\n",
    "\n",
    "print(precipitation('2017-05-12','2017-06-18'))"
   ]
  },
  {
   "cell_type": "markdown",
   "metadata": {},
   "source": [
    "## Optional Challenge Assignment"
   ]
  },
  {
   "cell_type": "code",
   "execution_count": 59,
   "metadata": {},
   "outputs": [
    {
     "data": {
      "text/plain": [
       "(62.0, 69.15384615384616, 77.0)"
      ]
     },
     "execution_count": 59,
     "metadata": {},
     "output_type": "execute_result"
    }
   ],
   "source": [
    "# Create a query that will calculate the daily normals \n",
    "# (i.e. the averages for tmin, tmax, and tavg for all historic data matching a specific month and day)\n",
    "\n",
    "def daily_normals(date):\n",
    "    \"\"\"Daily Normals.\n",
    "    \n",
    "    Args:\n",
    "        date (str): A date string in the format '%m-%d'\n",
    "        \n",
    "    Returns:\n",
    "        A list of tuples containing the daily normals, tmin, tavg, and tmax\n",
    "    \n",
    "    \"\"\"\n",
    "    \n",
    "    sel = [func.min(Measurement.tobs), func.avg(Measurement.tobs), func.max(Measurement.tobs)]\n",
    "    return session.query(*sel).filter(func.strftime(\"%m-%d\", Measurement.date) == date).all()\n",
    "    \n",
    "daily_normals(\"01-01\")[0]"
   ]
  },
  {
   "cell_type": "markdown",
   "metadata": {},
   "source": [
    "# Calculate Daily Temperature Normals for a date range"
   ]
  },
  {
   "cell_type": "code",
   "execution_count": 81,
   "metadata": {},
   "outputs": [
    {
     "data": {
      "text/plain": [
       "[(65.0, 73.13793103448276, 79.0),\n",
       " (67.0, 73.14285714285714, 79.0),\n",
       " (63.0, 73.89285714285714, 80.0),\n",
       " (63.0, 73.69090909090909, 79.0),\n",
       " (68.0, 74.37931034482759, 80.0),\n",
       " (68.0, 74.45, 79.0),\n",
       " (68.0, 74.10714285714286, 82.0),\n",
       " (65.0, 73.80701754385964, 79.0),\n",
       " (68.0, 73.89655172413794, 79.0),\n",
       " (64.0, 72.96428571428571, 80.0),\n",
       " (64.0, 74.45614035087719, 80.0),\n",
       " (68.0, 74.94827586206897, 87.0),\n",
       " (67.0, 73.94827586206897, 79.0),\n",
       " (68.0, 74.27586206896552, 79.0),\n",
       " (65.0, 74.03636363636363, 82.0),\n",
       " (65.0, 74.49090909090908, 80.0),\n",
       " (67.0, 74.27777777777777, 82.0),\n",
       " (64.0, 74.19607843137256, 80.0),\n",
       " (69.0, 74.33333333333333, 81.0),\n",
       " (68.0, 74.4, 81.0),\n",
       " (64.0, 74.6140350877193, 81.0),\n",
       " (65.0, 74.4, 81.0),\n",
       " (65.0, 74.03448275862068, 80.0),\n",
       " (65.0, 73.81818181818181, 81.0),\n",
       " (68.0, 74.85454545454546, 81.0),\n",
       " (70.0, 75.17543859649123, 80.0),\n",
       " (68.0, 75.07142857142857, 81.0),\n",
       " (70.0, 75.58620689655173, 81.0),\n",
       " (69.0, 75.15254237288136, 81.0),\n",
       " (68.0, 75.14285714285714, 81.0),\n",
       " (69.0, 76.01960784313725, 84.0),\n",
       " (66.0, 75.66666666666667, 83.0),\n",
       " (68.0, 75.66666666666667, 81.0),\n",
       " (69.0, 75.62711864406779, 81.0),\n",
       " (67.0, 75.40350877192982, 81.0),\n",
       " (69.0, 75.41379310344827, 81.0),\n",
       " (68.0, 74.59322033898304, 81.0),\n",
       " (69.0, 74.60344827586206, 80.0)]"
      ]
     },
     "execution_count": 81,
     "metadata": {},
     "output_type": "execute_result"
    }
   ],
   "source": [
    "# Calculate the daily normals for your trip\n",
    "# push each tuple of calculations into a list called `normals`\n",
    "\n",
    "# Set the start and end date of the trip\n",
    "start_date = '2017-05-12'\n",
    "end_date ='2017-06-18'\n",
    "\n",
    "# Use the start and end date to create a range of dates\n",
    "date_range = session.query(Measurement.date).filter(Measurement.date >= start_date,Measurement.date <= end_date).group_by(Measurement.date).all()\n",
    "\n",
    "# Stip off the year and save a list of %m-%d strings\n",
    "date_list = [x[0][5:] for x in date_range]\n",
    "\n",
    "# Loop through the list of %m-%d strings and calculate the normals for each date\n",
    "date_normals = [daily_normals(x)[0] for x in date_list]\n",
    "date_normals"
   ]
  },
  {
   "cell_type": "code",
   "execution_count": 82,
   "metadata": {},
   "outputs": [
    {
     "data": {
      "text/html": [
       "<div>\n",
       "<style scoped>\n",
       "    .dataframe tbody tr th:only-of-type {\n",
       "        vertical-align: middle;\n",
       "    }\n",
       "\n",
       "    .dataframe tbody tr th {\n",
       "        vertical-align: top;\n",
       "    }\n",
       "\n",
       "    .dataframe thead th {\n",
       "        text-align: right;\n",
       "    }\n",
       "</style>\n",
       "<table border=\"1\" class=\"dataframe\">\n",
       "  <thead>\n",
       "    <tr style=\"text-align: right;\">\n",
       "      <th></th>\n",
       "      <th>tmin</th>\n",
       "      <th>tavg</th>\n",
       "      <th>tmax</th>\n",
       "    </tr>\n",
       "    <tr>\n",
       "      <th>date</th>\n",
       "      <th></th>\n",
       "      <th></th>\n",
       "      <th></th>\n",
       "    </tr>\n",
       "  </thead>\n",
       "  <tbody>\n",
       "    <tr>\n",
       "      <th>2017-06-18</th>\n",
       "      <td>69.0</td>\n",
       "      <td>74.603448</td>\n",
       "      <td>80.0</td>\n",
       "    </tr>\n",
       "    <tr>\n",
       "      <th>2017-06-17</th>\n",
       "      <td>68.0</td>\n",
       "      <td>74.593220</td>\n",
       "      <td>81.0</td>\n",
       "    </tr>\n",
       "    <tr>\n",
       "      <th>2017-06-16</th>\n",
       "      <td>69.0</td>\n",
       "      <td>75.413793</td>\n",
       "      <td>81.0</td>\n",
       "    </tr>\n",
       "    <tr>\n",
       "      <th>2017-06-15</th>\n",
       "      <td>67.0</td>\n",
       "      <td>75.403509</td>\n",
       "      <td>81.0</td>\n",
       "    </tr>\n",
       "    <tr>\n",
       "      <th>2017-06-14</th>\n",
       "      <td>69.0</td>\n",
       "      <td>75.627119</td>\n",
       "      <td>81.0</td>\n",
       "    </tr>\n",
       "    <tr>\n",
       "      <th>2017-06-13</th>\n",
       "      <td>68.0</td>\n",
       "      <td>75.666667</td>\n",
       "      <td>81.0</td>\n",
       "    </tr>\n",
       "    <tr>\n",
       "      <th>2017-06-12</th>\n",
       "      <td>66.0</td>\n",
       "      <td>75.666667</td>\n",
       "      <td>83.0</td>\n",
       "    </tr>\n",
       "    <tr>\n",
       "      <th>2017-06-11</th>\n",
       "      <td>69.0</td>\n",
       "      <td>76.019608</td>\n",
       "      <td>84.0</td>\n",
       "    </tr>\n",
       "    <tr>\n",
       "      <th>2017-06-10</th>\n",
       "      <td>68.0</td>\n",
       "      <td>75.142857</td>\n",
       "      <td>81.0</td>\n",
       "    </tr>\n",
       "    <tr>\n",
       "      <th>2017-06-09</th>\n",
       "      <td>69.0</td>\n",
       "      <td>75.152542</td>\n",
       "      <td>81.0</td>\n",
       "    </tr>\n",
       "  </tbody>\n",
       "</table>\n",
       "</div>"
      ],
      "text/plain": [
       "            tmin       tavg  tmax\n",
       "date                             \n",
       "2017-06-18  69.0  74.603448  80.0\n",
       "2017-06-17  68.0  74.593220  81.0\n",
       "2017-06-16  69.0  75.413793  81.0\n",
       "2017-06-15  67.0  75.403509  81.0\n",
       "2017-06-14  69.0  75.627119  81.0\n",
       "2017-06-13  68.0  75.666667  81.0\n",
       "2017-06-12  66.0  75.666667  83.0\n",
       "2017-06-11  69.0  76.019608  84.0\n",
       "2017-06-10  68.0  75.142857  81.0\n",
       "2017-06-09  69.0  75.152542  81.0"
      ]
     },
     "execution_count": 82,
     "metadata": {},
     "output_type": "execute_result"
    }
   ],
   "source": [
    "# Load the previous query results into a Pandas DataFrame and add the `trip_dates` range as the `date` index\n",
    "\n",
    "date_normals_df= pd.DataFrame(date_normals,columns=['tmin', 'tavg', 'tmax'])\n",
    "date_normals_df['date'] = [date[0] for date in date_range]\n",
    "date_normals = date_normals_df.sort_values('date',ascending =False)\n",
    "date_normals = date_normals.set_index('date')\n",
    "date_normals.head(10)"
   ]
  },
  {
   "cell_type": "code",
   "execution_count": 150,
   "metadata": {},
   "outputs": [
    {
     "data": {
      "image/png": "[encoded data removed]",
      "text/plain": [
       "<Figure size 576x576 with 1 Axes>"
      ]
     },
     "metadata": {},
     "output_type": "display_data"
    }
   ],
   "source": [
    "# Plot the daily normals as an area plot with `stacked=False`\n",
    "style.use('fivethirtyeight')\n",
    "date_normals.plot(kind='area',stacked=False,alpha=0.35,figsize=(8,8))\n",
    "plt.xticks(rotation=45)\n",
    "plt.tight_layout()\n",
    "plt.xlabel('Date')\n",
    "plt.text(x = 0, y = 105, s = \"Average Daily Normals for Trip Dates\",\n",
    "               fontsize = 24, weight = 'bold', alpha = .75)\n",
    "plt.text(x = 0, y = 95, s = \"If you take a trip to Hawaii, what would be the daily Average \\nTemperature, Max and Min Temperature values for each day\",\n",
    "               fontsize = 16, alpha = .85,bbox=dict(facecolor='gray', alpha=0.3))\n",
    "plt.text(x = 0, y = 90, s = \"Date Range : \" + start_date + \" to \" + end_date,\n",
    "               fontsize = 10, alpha = .85,bbox=dict(facecolor='gray', alpha=0.3))\n",
    "plt.savefig(\"Images/DateNormals\"+ start_date+\"_\"+ end_date +\".png\",dpi=200)\n",
    "plt.show()\n",
    "\n"
   ]
  },
  {
   "cell_type": "code",
   "execution_count": null,
   "metadata": {},
   "outputs": [],
   "source": []
  },
  {
   "cell_type": "code",
   "execution_count": null,
   "metadata": {},
   "outputs": [],
   "source": []
  }
 ],
 "metadata": {
  "kernel_info": {
   "name": "python3"
  },
  "kernelspec": {
   "display_name": "Python 3",
   "language": "python",
   "name": "python3"
  },
  "language_info": {
   "codemirror_mode": {
    "name": "ipython",
    "version": 3
   },
   "file_extension": ".py",
   "mimetype": "text/x-python",
   "name": "python",
   "nbconvert_exporter": "python",
   "pygments_lexer": "ipython3",
   "version": "3.7.3"
  },
  "nteract": {
   "version": "0.12.3"
  },
  "varInspector": {
   "cols": {
    "lenName": 16,
    "lenType": 16,
    "lenVar": 40
   },
   "kernels_config": {
    "python": {
     "delete_cmd_postfix": "",
     "delete_cmd_prefix": "del ",
     "library": "var_list.py",
     "varRefreshCmd": "print(var_dic_list())"
    },
    "r": {
     "delete_cmd_postfix": ") ",
     "delete_cmd_prefix": "rm(",
     "library": "var_list.r",
     "varRefreshCmd": "cat(var_dic_list()) "
    }
   },
   "types_to_exclude": [
    "module",
    "function",
    "builtin_function_or_method",
    "instance",
    "_Feature"
   ],
   "window_display": false
  }
 },
 "nbformat": 4,
 "nbformat_minor": 2
}
